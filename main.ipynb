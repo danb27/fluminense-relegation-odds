{
 "cells": [
  {
   "metadata": {},
   "cell_type": "markdown",
   "source": [
    "The notebook is an analysis of Fluminense's chances of relegation in the last round of the 2024 Brasileirão. The analysis is based on the probabilities of Fluminense winning, tying, or losing, as well as the probabilities of Atlético Paranaense, Atlético Mineiro, and Red Bull Bragantino winning, tying, or losing. The probabilities are based on the moneyline odds of each outcome.\n",
    "\n",
    "The analysis was inspired by the following visual: \n",
    "\n",
    "![image](assets/cenarios-rebaixamento.avif)\n",
    "\n",
    "Source: [Globo Esporte](https://ge.globo.com/futebol/times/fluminense/noticia/2024/12/07/fluminense-tem-duas-chances-de-queda-em-27-cenarios-veja-riscos-para-bragantino-athletico-e-galo.ghtml)"
   ],
   "id": "4a6a20e38065cb22"
  },
  {
   "metadata": {
    "ExecuteTime": {
     "end_time": "2024-12-08T17:32:25.737336Z",
     "start_time": "2024-12-08T17:32:25.402768Z"
    }
   },
   "cell_type": "code",
   "source": [
    "import pandas as pd \n",
    "import matplotlib.pyplot as plt"
   ],
   "id": "9e129c51e6b51a34",
   "outputs": [],
   "execution_count": 1
  },
  {
   "metadata": {
    "ExecuteTime": {
     "end_time": "2024-12-08T17:32:25.740448Z",
     "start_time": "2024-12-08T17:32:25.738294Z"
    }
   },
   "cell_type": "code",
   "source": [
    "def plot(df, **kwargs):\n",
    "    ax = df.plot(\n",
    "        kind=\"bar\",\n",
    "        title=\"Relegation Chances\", \n",
    "        xlabel=\"Team\",\n",
    "        ylabel=\"Probability\",\n",
    "        **kwargs\n",
    "    )\n",
    "    for idx in range(len(ax.containers)):\n",
    "        plt.bar_label(ax.containers[idx])\n",
    "    plt.show()\n",
    "    "
   ],
   "id": "e53689d9c3135263",
   "outputs": [],
   "execution_count": 2
  },
  {
   "metadata": {
    "ExecuteTime": {
     "end_time": "2024-12-08T17:32:25.748149Z",
     "start_time": "2024-12-08T17:32:25.741020Z"
    }
   },
   "cell_type": "code",
   "source": [
    "data = {\n",
    "    \"CAP\": [\n",
    "        *[\"Win\"] * 9, *[\"Tie\"] * 9, *[\"Loss\"] * 9\n",
    "    ],\n",
    "    \"CAM\": [\n",
    "        *[\"Loss\"] * 9, *[\"Tie\"] * 9, *[\"Win\"] * 9\n",
    "    ],\n",
    "    \"RBB\": [\n",
    "        *[\"Win\"] * 3, *[\"Tie\"] * 3, *[\"Loss\"] * 3\n",
    "    ] * 3,\n",
    "    \"FLU\": [\n",
    "        \"Win\", \"Tie\", \"Loss\"\n",
    "    ] * 9,\n",
    "    \"Relegated\": [\n",
    "        *[\"CAM\"] * 2, \"FLU\", *[\"RBB\"] * 6, *[\"CAP\"] * 2, \"FLU\", *[\"RBB\"] * 6, *[\"CAP\"] * 3, *[\"RBB\"] * 6\n",
    "    ],\n",
    "}\n",
    "df = pd.DataFrame(data, )\n",
    "df"
   ],
   "id": "94af2513cc23f784",
   "outputs": [
    {
     "data": {
      "text/plain": [
       "     CAP   CAM   RBB   FLU Relegated\n",
       "0    Win  Loss   Win   Win       CAM\n",
       "1    Win  Loss   Win   Tie       CAM\n",
       "2    Win  Loss   Win  Loss       FLU\n",
       "3    Win  Loss   Tie   Win       RBB\n",
       "4    Win  Loss   Tie   Tie       RBB\n",
       "5    Win  Loss   Tie  Loss       RBB\n",
       "6    Win  Loss  Loss   Win       RBB\n",
       "7    Win  Loss  Loss   Tie       RBB\n",
       "8    Win  Loss  Loss  Loss       RBB\n",
       "9    Tie   Tie   Win   Win       CAP\n",
       "10   Tie   Tie   Win   Tie       CAP\n",
       "11   Tie   Tie   Win  Loss       FLU\n",
       "12   Tie   Tie   Tie   Win       RBB\n",
       "13   Tie   Tie   Tie   Tie       RBB\n",
       "14   Tie   Tie   Tie  Loss       RBB\n",
       "15   Tie   Tie  Loss   Win       RBB\n",
       "16   Tie   Tie  Loss   Tie       RBB\n",
       "17   Tie   Tie  Loss  Loss       RBB\n",
       "18  Loss   Win   Win   Win       CAP\n",
       "19  Loss   Win   Win   Tie       CAP\n",
       "20  Loss   Win   Win  Loss       CAP\n",
       "21  Loss   Win   Tie   Win       RBB\n",
       "22  Loss   Win   Tie   Tie       RBB\n",
       "23  Loss   Win   Tie  Loss       RBB\n",
       "24  Loss   Win  Loss   Win       RBB\n",
       "25  Loss   Win  Loss   Tie       RBB\n",
       "26  Loss   Win  Loss  Loss       RBB"
      ],
      "text/html": [
       "<div>\n",
       "<style scoped>\n",
       "    .dataframe tbody tr th:only-of-type {\n",
       "        vertical-align: middle;\n",
       "    }\n",
       "\n",
       "    .dataframe tbody tr th {\n",
       "        vertical-align: top;\n",
       "    }\n",
       "\n",
       "    .dataframe thead th {\n",
       "        text-align: right;\n",
       "    }\n",
       "</style>\n",
       "<table border=\"1\" class=\"dataframe\">\n",
       "  <thead>\n",
       "    <tr style=\"text-align: right;\">\n",
       "      <th></th>\n",
       "      <th>CAP</th>\n",
       "      <th>CAM</th>\n",
       "      <th>RBB</th>\n",
       "      <th>FLU</th>\n",
       "      <th>Relegated</th>\n",
       "    </tr>\n",
       "  </thead>\n",
       "  <tbody>\n",
       "    <tr>\n",
       "      <th>0</th>\n",
       "      <td>Win</td>\n",
       "      <td>Loss</td>\n",
       "      <td>Win</td>\n",
       "      <td>Win</td>\n",
       "      <td>CAM</td>\n",
       "    </tr>\n",
       "    <tr>\n",
       "      <th>1</th>\n",
       "      <td>Win</td>\n",
       "      <td>Loss</td>\n",
       "      <td>Win</td>\n",
       "      <td>Tie</td>\n",
       "      <td>CAM</td>\n",
       "    </tr>\n",
       "    <tr>\n",
       "      <th>2</th>\n",
       "      <td>Win</td>\n",
       "      <td>Loss</td>\n",
       "      <td>Win</td>\n",
       "      <td>Loss</td>\n",
       "      <td>FLU</td>\n",
       "    </tr>\n",
       "    <tr>\n",
       "      <th>3</th>\n",
       "      <td>Win</td>\n",
       "      <td>Loss</td>\n",
       "      <td>Tie</td>\n",
       "      <td>Win</td>\n",
       "      <td>RBB</td>\n",
       "    </tr>\n",
       "    <tr>\n",
       "      <th>4</th>\n",
       "      <td>Win</td>\n",
       "      <td>Loss</td>\n",
       "      <td>Tie</td>\n",
       "      <td>Tie</td>\n",
       "      <td>RBB</td>\n",
       "    </tr>\n",
       "    <tr>\n",
       "      <th>5</th>\n",
       "      <td>Win</td>\n",
       "      <td>Loss</td>\n",
       "      <td>Tie</td>\n",
       "      <td>Loss</td>\n",
       "      <td>RBB</td>\n",
       "    </tr>\n",
       "    <tr>\n",
       "      <th>6</th>\n",
       "      <td>Win</td>\n",
       "      <td>Loss</td>\n",
       "      <td>Loss</td>\n",
       "      <td>Win</td>\n",
       "      <td>RBB</td>\n",
       "    </tr>\n",
       "    <tr>\n",
       "      <th>7</th>\n",
       "      <td>Win</td>\n",
       "      <td>Loss</td>\n",
       "      <td>Loss</td>\n",
       "      <td>Tie</td>\n",
       "      <td>RBB</td>\n",
       "    </tr>\n",
       "    <tr>\n",
       "      <th>8</th>\n",
       "      <td>Win</td>\n",
       "      <td>Loss</td>\n",
       "      <td>Loss</td>\n",
       "      <td>Loss</td>\n",
       "      <td>RBB</td>\n",
       "    </tr>\n",
       "    <tr>\n",
       "      <th>9</th>\n",
       "      <td>Tie</td>\n",
       "      <td>Tie</td>\n",
       "      <td>Win</td>\n",
       "      <td>Win</td>\n",
       "      <td>CAP</td>\n",
       "    </tr>\n",
       "    <tr>\n",
       "      <th>10</th>\n",
       "      <td>Tie</td>\n",
       "      <td>Tie</td>\n",
       "      <td>Win</td>\n",
       "      <td>Tie</td>\n",
       "      <td>CAP</td>\n",
       "    </tr>\n",
       "    <tr>\n",
       "      <th>11</th>\n",
       "      <td>Tie</td>\n",
       "      <td>Tie</td>\n",
       "      <td>Win</td>\n",
       "      <td>Loss</td>\n",
       "      <td>FLU</td>\n",
       "    </tr>\n",
       "    <tr>\n",
       "      <th>12</th>\n",
       "      <td>Tie</td>\n",
       "      <td>Tie</td>\n",
       "      <td>Tie</td>\n",
       "      <td>Win</td>\n",
       "      <td>RBB</td>\n",
       "    </tr>\n",
       "    <tr>\n",
       "      <th>13</th>\n",
       "      <td>Tie</td>\n",
       "      <td>Tie</td>\n",
       "      <td>Tie</td>\n",
       "      <td>Tie</td>\n",
       "      <td>RBB</td>\n",
       "    </tr>\n",
       "    <tr>\n",
       "      <th>14</th>\n",
       "      <td>Tie</td>\n",
       "      <td>Tie</td>\n",
       "      <td>Tie</td>\n",
       "      <td>Loss</td>\n",
       "      <td>RBB</td>\n",
       "    </tr>\n",
       "    <tr>\n",
       "      <th>15</th>\n",
       "      <td>Tie</td>\n",
       "      <td>Tie</td>\n",
       "      <td>Loss</td>\n",
       "      <td>Win</td>\n",
       "      <td>RBB</td>\n",
       "    </tr>\n",
       "    <tr>\n",
       "      <th>16</th>\n",
       "      <td>Tie</td>\n",
       "      <td>Tie</td>\n",
       "      <td>Loss</td>\n",
       "      <td>Tie</td>\n",
       "      <td>RBB</td>\n",
       "    </tr>\n",
       "    <tr>\n",
       "      <th>17</th>\n",
       "      <td>Tie</td>\n",
       "      <td>Tie</td>\n",
       "      <td>Loss</td>\n",
       "      <td>Loss</td>\n",
       "      <td>RBB</td>\n",
       "    </tr>\n",
       "    <tr>\n",
       "      <th>18</th>\n",
       "      <td>Loss</td>\n",
       "      <td>Win</td>\n",
       "      <td>Win</td>\n",
       "      <td>Win</td>\n",
       "      <td>CAP</td>\n",
       "    </tr>\n",
       "    <tr>\n",
       "      <th>19</th>\n",
       "      <td>Loss</td>\n",
       "      <td>Win</td>\n",
       "      <td>Win</td>\n",
       "      <td>Tie</td>\n",
       "      <td>CAP</td>\n",
       "    </tr>\n",
       "    <tr>\n",
       "      <th>20</th>\n",
       "      <td>Loss</td>\n",
       "      <td>Win</td>\n",
       "      <td>Win</td>\n",
       "      <td>Loss</td>\n",
       "      <td>CAP</td>\n",
       "    </tr>\n",
       "    <tr>\n",
       "      <th>21</th>\n",
       "      <td>Loss</td>\n",
       "      <td>Win</td>\n",
       "      <td>Tie</td>\n",
       "      <td>Win</td>\n",
       "      <td>RBB</td>\n",
       "    </tr>\n",
       "    <tr>\n",
       "      <th>22</th>\n",
       "      <td>Loss</td>\n",
       "      <td>Win</td>\n",
       "      <td>Tie</td>\n",
       "      <td>Tie</td>\n",
       "      <td>RBB</td>\n",
       "    </tr>\n",
       "    <tr>\n",
       "      <th>23</th>\n",
       "      <td>Loss</td>\n",
       "      <td>Win</td>\n",
       "      <td>Tie</td>\n",
       "      <td>Loss</td>\n",
       "      <td>RBB</td>\n",
       "    </tr>\n",
       "    <tr>\n",
       "      <th>24</th>\n",
       "      <td>Loss</td>\n",
       "      <td>Win</td>\n",
       "      <td>Loss</td>\n",
       "      <td>Win</td>\n",
       "      <td>RBB</td>\n",
       "    </tr>\n",
       "    <tr>\n",
       "      <th>25</th>\n",
       "      <td>Loss</td>\n",
       "      <td>Win</td>\n",
       "      <td>Loss</td>\n",
       "      <td>Tie</td>\n",
       "      <td>RBB</td>\n",
       "    </tr>\n",
       "    <tr>\n",
       "      <th>26</th>\n",
       "      <td>Loss</td>\n",
       "      <td>Win</td>\n",
       "      <td>Loss</td>\n",
       "      <td>Loss</td>\n",
       "      <td>RBB</td>\n",
       "    </tr>\n",
       "  </tbody>\n",
       "</table>\n",
       "</div>"
      ]
     },
     "execution_count": 3,
     "metadata": {},
     "output_type": "execute_result"
    }
   ],
   "execution_count": 3
  },
  {
   "metadata": {
    "ExecuteTime": {
     "end_time": "2024-12-08T17:32:25.833446Z",
     "start_time": "2024-12-08T17:32:25.748794Z"
    }
   },
   "cell_type": "code",
   "source": [
    "simple_chances = (df[\"Relegated\"].value_counts() / len(df)).round(2)\n",
    "simple_chances = simple_chances.rename(\"Probability\")\n",
    "plot(simple_chances)"
   ],
   "id": "942a484229107fcb",
   "outputs": [
    {
     "data": {
      "text/plain": [
       "<Figure size 640x480 with 1 Axes>"
      ],
      "image/png": "[encoded data removed]"
     },
     "metadata": {},
     "output_type": "display_data"
    }
   ],
   "execution_count": 4
  },
  {
   "metadata": {
    "ExecuteTime": {
     "end_time": "2024-12-08T17:32:25.838460Z",
     "start_time": "2024-12-08T17:32:25.834836Z"
    }
   },
   "cell_type": "code",
   "source": [
    "def moneyline_to_prob(odd):\n",
    "    \"\"\"Converts american (moneyline) betting odd of an outcome to probability\"\"\"\n",
    "    if odd > 0:\n",
    "        result = 100 / (100 + odd)\n",
    "    else:\n",
    "        result = -odd / (-odd + 100)\n",
    "    return round(result, 2)\n",
    "\n",
    "# From DraftKings because Brazilian betting sites are blocked where I am\n",
    "_moneylines = {\n",
    "    \"CAP\": {\n",
    "        \"Win\": 285,\n",
    "        \"Tie\": 205,\n",
    "        \"Loss\": 110\n",
    "    },\n",
    "    \"CAM\": {\n",
    "        \"Win\": 110,\n",
    "        \"Tie\": 205,\n",
    "        \"Loss\": 285\n",
    "    },\n",
    "    \"RBB\": {\n",
    "        \"Win\": -240,\n",
    "        \"Tie\": 370,\n",
    "        \"Loss\": 650\n",
    "    },\n",
    "    \"FLU\": {\n",
    "        \"Win\": 600,\n",
    "        \"Tie\": 360,\n",
    "        \"Loss\": -230\n",
    "    },\n",
    "}\n",
    "\n",
    "probabilities = {\n",
    "    team: {outcome: moneyline_to_prob(odd) for outcome, odd in odds.items()}\n",
    "    for team, odds in _moneylines.items()\n",
    "}\n",
    "probabilities"
   ],
   "id": "c6541eb070ad629a",
   "outputs": [
    {
     "data": {
      "text/plain": [
       "{'CAP': {'Win': 0.26, 'Tie': 0.33, 'Loss': 0.48},\n",
       " 'CAM': {'Win': 0.48, 'Tie': 0.33, 'Loss': 0.26},\n",
       " 'RBB': {'Win': 0.71, 'Tie': 0.21, 'Loss': 0.13},\n",
       " 'FLU': {'Win': 0.14, 'Tie': 0.22, 'Loss': 0.7}}"
      ]
     },
     "execution_count": 5,
     "metadata": {},
     "output_type": "execute_result"
    }
   ],
   "execution_count": 5
  },
  {
   "metadata": {
    "ExecuteTime": {
     "end_time": "2024-12-08T17:32:25.844234Z",
     "start_time": "2024-12-08T17:32:25.839093Z"
    }
   },
   "cell_type": "code",
   "source": [
    "prob_df = pd.DataFrame()\n",
    "\n",
    "for col in df.columns:\n",
    "    if col == \"Relegated\":\n",
    "        prob_df[\"Relegated\"] = df[col]\n",
    "        continue\n",
    "    prob_df[f\"{col}_prob\"] = df[col].apply(lambda x: probabilities[col][x])\n",
    "\n",
    "prob_df[\"Weighted Probability\"] = (\n",
    "    prob_df[\"CAP_prob\"] * prob_df[\"CAM_prob\"] * prob_df[\"RBB_prob\"] * prob_df[\"FLU_prob\"]\n",
    ")\n",
    "team_prob = prob_df.groupby('Relegated')['Weighted Probability'].sum()\n",
    "# normalize to 1\n",
    "team_prob = (team_prob / team_prob.sum()).round(2)\n",
    "team_prob"
   ],
   "id": "60321119ceaa469d",
   "outputs": [
    {
     "data": {
      "text/plain": [
       "Relegated\n",
       "CAM    0.04\n",
       "CAP    0.44\n",
       "FLU    0.19\n",
       "RBB    0.32\n",
       "Name: Weighted Probability, dtype: float64"
      ]
     },
     "execution_count": 6,
     "metadata": {},
     "output_type": "execute_result"
    }
   ],
   "execution_count": 6
  },
  {
   "metadata": {
    "ExecuteTime": {
     "end_time": "2024-12-08T17:32:25.847037Z",
     "start_time": "2024-12-08T17:32:25.844856Z"
    }
   },
   "cell_type": "code",
   "source": "probabilities_df = pd.merge(simple_chances, team_prob, left_index=True, right_index=True)",
   "id": "76ba5b18cf79fb31",
   "outputs": [],
   "execution_count": 7
  },
  {
   "metadata": {
    "ExecuteTime": {
     "end_time": "2024-12-08T17:32:25.908449Z",
     "start_time": "2024-12-08T17:32:25.847651Z"
    }
   },
   "cell_type": "code",
   "source": "plot(probabilities_df)",
   "id": "c5d39f5fc66a3c4",
   "outputs": [
    {
     "data": {
      "text/plain": [
       "<Figure size 640x480 with 1 Axes>"
      ],
      "image/png": "[encoded data removed]"
     },
     "metadata": {},
     "output_type": "display_data"
    }
   ],
   "execution_count": 8
  },
  {
   "metadata": {},
   "cell_type": "markdown",
   "source": "",
   "id": "9eb3fde631c28436"
  }
 ],
 "metadata": {
  "kernelspec": {
   "display_name": "Python 3",
   "language": "python",
   "name": "python3"
  },
  "language_info": {
   "codemirror_mode": {
    "name": "ipython",
    "version": 2
   },
   "file_extension": ".py",
   "mimetype": "text/x-python",
   "name": "python",
   "nbconvert_exporter": "python",
   "pygments_lexer": "ipython2",
   "version": "2.7.6"
  }
 },
 "nbformat": 4,
 "nbformat_minor": 5
}
